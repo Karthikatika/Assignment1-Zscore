{
 "cells": [
  {
   "cell_type": "code",
   "execution_count": 1,
   "id": "fe6dbdfb",
   "metadata": {},
   "outputs": [
    {
     "name": "stdout",
     "output_type": "stream",
     "text": [
      "-6.0\n",
      "Z-score array:  [-0.85692062 -1.51455737 -0.63770837 -0.41849612 -1.07613287  0.01992839\n",
      "  1.11598964  1.33520189  1.7736264   0.23914064  0.01992839]\n",
      "Z-score array:\n",
      "           A         B         C         D         E\n",
      "0 -0.846228  0.454859 -0.442326 -0.766965  1.205607\n",
      "1  0.781133 -0.303239  0.294884 -0.766965 -0.964486\n",
      "2  0.455661 -1.440386 -1.179536  1.917412 -0.964486\n",
      "3 -1.497172 -0.303239 -0.442326  0.000000  1.205607\n",
      "4  1.106606  1.592006  1.769303 -0.383482 -0.482243\n"
     ]
    }
   ],
   "source": [
    "import numpy as np\n",
    "from scipy.stats import zscore\n",
    "import statistics\n",
    "mean_height = 5.5*12\n",
    "stdev_height = 1*12\n",
    "target = 6*12\n",
    "zscore=(target-mean_height)-stdev_height\n",
    "print(zscore)\n",
    "\n",
    "#One dimensional array\n",
    "import numpy as np\n",
    "from scipy.stats import zscore\n",
    "data = np.array([7,4,8,9,6,11,16,17,19,12,11])\n",
    "result = zscore(data)\n",
    "print(\"Z-score array: \",result)\n",
    "\n",
    "#data frame\n",
    "import numpy as np\n",
    "from scipy.stats import zscore\n",
    "import pandas as pd\n",
    "#seed function-generate the random number(zsore)\n",
    "np.random.seed(5)\n",
    "data = pd.DataFrame(np.random.randint(0, 10, size=(5, 5)), columns=['A', 'B', 'C','D','E']) #return int in specified range\n",
    "\n",
    "result=zscore(data)\n",
    "print(\"Z-score array:\\n\",result)"
   ]
  },
  {
   "cell_type": "code",
   "execution_count": null,
   "id": "4deb8a29",
   "metadata": {},
   "outputs": [],
   "source": []
  }
 ],
 "metadata": {
  "kernelspec": {
   "display_name": "Python 3 (ipykernel)",
   "language": "python",
   "name": "python3"
  },
  "language_info": {
   "codemirror_mode": {
    "name": "ipython",
    "version": 3
   },
   "file_extension": ".py",
   "mimetype": "text/x-python",
   "name": "python",
   "nbconvert_exporter": "python",
   "pygments_lexer": "ipython3",
   "version": "3.9.7"
  }
 },
 "nbformat": 4,
 "nbformat_minor": 5
}
